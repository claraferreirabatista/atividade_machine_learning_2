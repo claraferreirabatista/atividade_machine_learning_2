{
  "cells": [
    {
      "cell_type": "markdown",
      "metadata": {
        "id": "EunnLBk1qBSW"
      },
      "source": [
        "3 exercício"
      ]
    },
    {
      "cell_type": "markdown",
      "metadata": {
        "id": "Qih5AVLxqu0V"
      },
      "source": [
        "# Aplicando Grid:\n"
      ]
    },
    {
      "cell_type": "code",
      "execution_count": null,
      "metadata": {
        "id": "mVAb-I5yof91"
      },
      "outputs": [],
      "source": [
        "from sklearn.compose import ColumnTransformer\n",
        "\n",
        "from sklearn.preprocessing import StandardScaler, OneHotEncoder, OrdinalEncoder\n",
        "import pandas as pd\n",
        "import matplotlib.pyplot as plt\n",
        "import numpy as np\n",
        "\n",
        "# modulos referentes ao AdaBoost\n",
        "from sklearn.ensemble import AdaBoostClassifier\n",
        "from sklearn.impute import SimpleImputer\n",
        "\n",
        "from sklearn.tree import DecisionTreeClassifier\n",
        "from sklearn.model_selection import GridSearchCV, StratifiedKFold, train_test_split\n",
        "\n",
        "from sklearn.pipeline import Pipeline\n",
        "\n",
        "from sklearn.metrics import confusion_matrix, classification_report, ConfusionMatrixDisplay\n",
        "\n",
        "df = pd.read_csv(\"german_credit_data.csv\", index_col=0)\n",
        "\n",
        "X = df.drop(columns=\"Risk\")\n",
        "y = df[\"Risk\"]\n",
        "\n",
        "X_train, X_test, y_train, y_test = train_test_split(X, y, test_size=0.2, random_state=42, stratify=y)"
      ]
    },
    {
      "cell_type": "code",
      "execution_count": null,
      "metadata": {
        "id": "6ce1iMHba3Cf"
      },
      "outputs": [],
      "source": [
        "categorical_features = df.select_dtypes(include = [\"object\"]).columns\n",
        "numerical_features = df.select_dtypes(exclude = [\"object\"]).columns\n",
        "categorical_features = categorical_features.drop(\"Risk\")\n",
        "df_num = df[numerical_features]\n",
        "df_cat = df[categorical_features]\n",
        "df_num = df_num.fillna(df_num.median()) #preenchendo os valores numéricos com a mediana, ao invés da média\n",
        "\n",
        "df_cat = pd.get_dummies(df_cat) #dummies\n",
        "X = pd.concat([df_cat,df_num],axis=1)\n",
        "\n",
        "X_train,X_test,y_train,y_test = train_test_split(X,y,test_size = 0.2,random_state= 0)\n",
        "\n",
        "scaler=StandardScaler()\n",
        "X_train= scaler.fit_transform(X_train)\n",
        "X_test= scaler.fit_transform(X_test)"
      ]
    },
    {
      "cell_type": "markdown",
      "metadata": {
        "id": "j0biJgFAbkYP"
      },
      "source": [
        "Substitui o pipeline pelos métodos que estou mais acostumado"
      ]
    },
    {
      "cell_type": "code",
      "execution_count": null,
      "metadata": {
        "colab": {
          "base_uri": "https://localhost:8080/"
        },
        "id": "WhJwbvInZ4AA",
        "outputId": "9c213cdc-ef96-4dcb-c3ae-b9a6f1c2c0b1"
      },
      "outputs": [
        {
          "name": "stdout",
          "output_type": "stream",
          "text": [
            "Fitting 6 folds for each of 27 candidates, totalling 162 fits\n",
            "Best Parameters: {'learning_rate': 0.7000000000000001, 'n_estimators': 50}\n",
            "Resultados para o Treino\n",
            "              precision    recall  f1-score   support\n",
            "\n",
            "         bad       0.70      0.48      0.57       242\n",
            "        good       0.80      0.91      0.85       558\n",
            "\n",
            "    accuracy                           0.78       800\n",
            "   macro avg       0.75      0.70      0.71       800\n",
            "weighted avg       0.77      0.78      0.77       800\n",
            "\n",
            "Resultados para o Teste\n",
            "              precision    recall  f1-score   support\n",
            "\n",
            "         bad       0.59      0.41      0.48        58\n",
            "        good       0.79      0.88      0.83       142\n",
            "\n",
            "    accuracy                           0.74       200\n",
            "   macro avg       0.69      0.65      0.66       200\n",
            "weighted avg       0.73      0.74      0.73       200\n",
            "\n"
          ]
        }
      ],
      "source": [
        "from sklearn.tree import DecisionTreeClassifier\n",
        "param_grid = {\n",
        "    'n_estimators': [50,100,150],\n",
        "    'learning_rate': np.arange(0.1, 1, 0.1),\n",
        "}\n",
        "base_estimator = DecisionTreeClassifier()\n",
        "\n",
        "# Define the AdaBoost classifier\n",
        "adaboost_clf = AdaBoostClassifier(random_state=42)\n",
        "\n",
        "grid_search = GridSearchCV(adaboost_clf, param_grid, cv=6, scoring='f1_weighted', verbose=1, n_jobs=-1)\n",
        "grid_result = grid_search.fit(X_train, y_train)\n",
        "\n",
        "# Get the best parameters found by Grid Search\n",
        "best_params = grid_result.best_params_\n",
        "print(\"Best Parameters:\", best_params)\n",
        "\n",
        "# Get the best model\n",
        "best_model = grid_result.best_estimator_\n",
        "\n",
        "# Evaluate the best model on the test set\n",
        "print('Resultados para o Treino')\n",
        "predictions_grid = best_model.predict(X_train)\n",
        "print(classification_report(y_train, predictions_grid))\n",
        "\n",
        "\n",
        "\n",
        "print('Resultados para o Teste')\n",
        "predictions_grid = best_model.predict(X_test)\n",
        "print(classification_report(y_test, predictions_grid))"
      ]
    },
    {
      "cell_type": "markdown",
      "metadata": {
        "id": "OjB3YUw2iY1P"
      },
      "source": [
        "# Aplicando Regressão\n",
        "\n",
        "Para regressão irei usar o mesmo data set da aula dois, e repetir o processo, e no final trocar para o AdaBoosting.\n",
        "\n",
        "Isso pois a target do data set german_credit_data é descritiva, nao combina com a regressão."
      ]
    },
    {
      "cell_type": "code",
      "execution_count": null,
      "metadata": {
        "colab": {
          "base_uri": "https://localhost:8080/"
        },
        "id": "k8kIsVPbinXe",
        "outputId": "7257ba58-e3ed-4a2e-8624-6a832357cce1"
      },
      "outputs": [
        {
          "name": "stderr",
          "output_type": "stream",
          "text": [
            "<ipython-input-39-40fb51892c0f>:3: FutureWarning: The default value of numeric_only in DataFrame.corr is deprecated. In a future version, it will default to False. Select only valid columns or specify the value of numeric_only to silence this warning.\n",
            "  colunas = df.corr().index[abs(df.corr()[\"SalePrice\"])>0.6] #colunas numéricas com mais correlação\n"
          ]
        }
      ],
      "source": [
        "# dropando colunas somente colunas numéricas com modo de correlação >0,6\n",
        "df = pd.read_csv(\"house_prices.csv\")\n",
        "colunas = df.corr().index[abs(df.corr()[\"SalePrice\"])>0.6] #colunas numéricas com mais correlação\n",
        "# checando nulos\n",
        "categorical_features = df[colunas].columns\n",
        "numerical_features = df.select_dtypes(exclude = [\"object\"]).columns\n",
        "numerical_features = numerical_features.drop(\"SalePrice\")\n",
        "df_num = df[numerical_features]\n",
        "df_cat = df[categorical_features]\n",
        "\n",
        "total = df_num.isnull().sum().sort_values(ascending=False)\n",
        "missing_data = pd.concat([total], axis=1, keys=['Total'])\n",
        "df_num = df_num.fillna(df_num.median()) #preenchendo os valores numéricos com a mediana, ao invés da média\n",
        "df.SalePrice = np.log1p(df.SalePrice ) # aplicando o log no target\n",
        "y = df.SalePrice\n",
        "df_cat = pd.get_dummies(df_cat) #dummies\n",
        "X = pd.concat([df_cat,df_num],axis=1)\n",
        "X_train,X_test,y_train,y_test = train_test_split(X,y,test_size = 0.2,random_state= 0)\n",
        "scaler=StandardScaler()\n",
        "X_train= scaler.fit_transform(X_train)\n",
        "X_test= scaler.fit_transform(X_test)\n",
        "\n"
      ]
    },
    {
      "cell_type": "code",
      "execution_count": null,
      "metadata": {
        "colab": {
          "base_uri": "https://localhost:8080/"
        },
        "id": "A3rIgbmbkZHy",
        "outputId": "b10ec559-0367-41b3-9d52-1c2881ba311b"
      },
      "outputs": [
        {
          "name": "stdout",
          "output_type": "stream",
          "text": [
            "\n",
            "Métricas de avaliação de treino\n",
            "R2: 1.00\n",
            "MAE: 0.02\n",
            "RMSE: 0.03\n",
            "\n",
            "Métricas de avaliação de teste\n",
            "R2: 0.99\n",
            "MAE: 0.03\n",
            "RMSE: 0.04\n"
          ]
        }
      ],
      "source": [
        "\n",
        "from sklearn.ensemble import AdaBoostRegressor\n",
        "from sklearn.metrics import r2_score,mean_absolute_error,mean_squared_error\n",
        "model=AdaBoostRegressor(random_state=42)\n",
        "model.fit(X_train, y_train)\n",
        "y_train_pred = model.predict(X_train)\n",
        "y_pred_test = model.predict(X_test)\n",
        "\n",
        "  # predições de treino\n",
        "\n",
        "print(\"\\nMétricas de avaliação de treino\")\n",
        "print(f\"R2: { r2_score(y_train, y_train_pred):.2f}\")\n",
        "print(f\"MAE: { mean_absolute_error(y_train, y_train_pred):.2f}\")\n",
        "print(f\"RMSE: { np.sqrt(mean_squared_error(y_train, y_train_pred)):.2f}\")\n",
        "\n",
        "    # predições de teste\n",
        "\n",
        "\n",
        "print(\"\\nMétricas de avaliação de teste\")\n",
        "print(f\"R2: { r2_score(y_test, y_pred_test):.2f}\")\n",
        "print(f\"MAE: { mean_absolute_error(y_test, y_pred_test):.2f}\")\n",
        "print(f\"RMSE: { np.sqrt(mean_squared_error(y_test, y_pred_test)):.2f}\")"
      ]
    }
  ],
  "metadata": {
    "colab": {
      "provenance": [],
      "toc_visible": true
    },
    "kernelspec": {
      "display_name": "Python 3",
      "name": "python3"
    },
    "language_info": {
      "name": "python"
    }
  },
  "nbformat": 4,
  "nbformat_minor": 0
}
